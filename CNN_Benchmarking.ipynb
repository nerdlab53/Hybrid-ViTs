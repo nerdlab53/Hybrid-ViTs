{
 "cells": [
  {
   "cell_type": "code",
   "execution_count": 1,
   "metadata": {},
   "outputs": [
    {
     "name": "stdout",
     "output_type": "stream",
     "text": [
      "fatal: destination path 'Hybrid-ViTs' already exists and is not an empty directory.\n",
      "\n",
      "\n",
      "\u001b[38;5;57m\u001b[1m⚡️ Tip\u001b[0m\tConnect GitHub to Studios: \u001b[4mhttps://lightning.ai/retr0sushi04/home?settings=integrations\u001b[0m\n",
      "\n"
     ]
    }
   ],
   "source": [
    "!git clone https://github.com/nerdlab53/Hybrid-ViTs.git"
   ]
  },
  {
   "cell_type": "code",
   "execution_count": 2,
   "metadata": {},
   "outputs": [
    {
     "name": "stdout",
     "output_type": "stream",
     "text": [
      "Requirement already satisfied: opendatasets in /system/conda/miniconda3/envs/cloudspace/lib/python3.10/site-packages (0.1.22)\n",
      "Requirement already satisfied: tqdm in /system/conda/miniconda3/envs/cloudspace/lib/python3.10/site-packages (from opendatasets) (4.66.6)\n",
      "Requirement already satisfied: kaggle in /system/conda/miniconda3/envs/cloudspace/lib/python3.10/site-packages (from opendatasets) (1.6.17)\n",
      "Requirement already satisfied: click in /system/conda/miniconda3/envs/cloudspace/lib/python3.10/site-packages (from opendatasets) (8.1.7)\n",
      "Requirement already satisfied: six>=1.10 in /system/conda/miniconda3/envs/cloudspace/lib/python3.10/site-packages (from kaggle->opendatasets) (1.16.0)\n",
      "Requirement already satisfied: certifi>=2023.7.22 in /system/conda/miniconda3/envs/cloudspace/lib/python3.10/site-packages (from kaggle->opendatasets) (2024.8.30)\n",
      "Requirement already satisfied: python-dateutil in /system/conda/miniconda3/envs/cloudspace/lib/python3.10/site-packages (from kaggle->opendatasets) (2.9.0.post0)\n",
      "Requirement already satisfied: requests in /system/conda/miniconda3/envs/cloudspace/lib/python3.10/site-packages (from kaggle->opendatasets) (2.32.3)\n",
      "Requirement already satisfied: python-slugify in /system/conda/miniconda3/envs/cloudspace/lib/python3.10/site-packages (from kaggle->opendatasets) (8.0.4)\n",
      "Requirement already satisfied: urllib3 in /system/conda/miniconda3/envs/cloudspace/lib/python3.10/site-packages (from kaggle->opendatasets) (2.2.3)\n",
      "Requirement already satisfied: bleach in /system/conda/miniconda3/envs/cloudspace/lib/python3.10/site-packages (from kaggle->opendatasets) (6.2.0)\n",
      "Requirement already satisfied: webencodings in /system/conda/miniconda3/envs/cloudspace/lib/python3.10/site-packages (from bleach->kaggle->opendatasets) (0.5.1)\n",
      "Requirement already satisfied: text-unidecode>=1.3 in /system/conda/miniconda3/envs/cloudspace/lib/python3.10/site-packages (from python-slugify->kaggle->opendatasets) (1.3)\n",
      "Requirement already satisfied: charset-normalizer<4,>=2 in /system/conda/miniconda3/envs/cloudspace/lib/python3.10/site-packages (from requests->kaggle->opendatasets) (3.4.0)\n",
      "Requirement already satisfied: idna<4,>=2.5 in /system/conda/miniconda3/envs/cloudspace/lib/python3.10/site-packages (from requests->kaggle->opendatasets) (3.10)\n"
     ]
    }
   ],
   "source": [
    "!pip install opendatasets"
   ]
  },
  {
   "cell_type": "markdown",
   "metadata": {},
   "source": [
    "- himanshubhenwal\n",
    "- 4ee00d3e036992c3e30a95c76ad06313"
   ]
  },
  {
   "cell_type": "code",
   "execution_count": 3,
   "metadata": {},
   "outputs": [
    {
     "name": "stdout",
     "output_type": "stream",
     "text": [
      "Skipping, found downloaded files in \"./augmented-alzheimer-mri-dataset\" (use force=True to force download)\n"
     ]
    }
   ],
   "source": [
    "import opendatasets as od\n",
    "od.download('https://www.kaggle.com/datasets/uraninjo/augmented-alzheimer-mri-dataset/')"
   ]
  },
  {
   "cell_type": "code",
   "execution_count": null,
   "metadata": {},
   "outputs": [],
   "source": [
    "# !python Hybrid-ViTs/train.py \\\n",
    "#     --name ResNet50_Run \\\n",
    "#     --data_dir /teamspace/studios/this_studio/augmented-alzheimer-mri-dataset \\\n",
    "#     --dataset alzheimers \\\n",
    "#     --model_type ResNet50 \\\n",
    "#     --train_batch_size 32 \\\n",
    "#     --val_split 0.1 \\\n",
    "#     --dataset_type Augmented \\\n",
    "#     --output_dir ./resnet_weights"
   ]
  },
  {
   "cell_type": "code",
   "execution_count": null,
   "metadata": {},
   "outputs": [],
   "source": [
    "!python Hybrid-ViTs/train.py \\\n",
    "    --name VGG16_Run \\\n",
    "    --data_dir /teamspace/studios/this_studio/augmented-alzheimer-mri-dataset \\\n",
    "    --dataset alzheimers \\\n",
    "    --model_type VGG16 \\\n",
    "    --train_batch_size 32 \\\n",
    "    --val_split 0.1 \\\n",
    "    --dataset_type Augmented \\\n",
    "    --output_dir ./vgg16_weights"
   ]
  },
  {
   "cell_type": "code",
   "execution_count": null,
   "metadata": {},
   "outputs": [],
   "source": [
    "!python Hybrid-ViTs/train.py \\\n",
    "    --name DenseNet_Run \\\n",
    "    --data_dir /teamspace/studios/this_studio/augmented-alzheimer-mri-dataset \\\n",
    "    --dataset alzheimers \\\n",
    "    --model_type DenseNet121 \\\n",
    "    --train_batch_size 32 \\\n",
    "    --val_split 0.1 \\\n",
    "    --dataset_type Augmented \\\n",
    "    --output_dir ./densenet121_weights"
   ]
  },
  {
   "cell_type": "code",
   "execution_count": null,
   "metadata": {},
   "outputs": [],
   "source": [
    "!python Hybrid-ViTs/train.py \\\n",
    "    --name EfficientNet_Run \\\n",
    "    --data_dir /teamspace/studios/this_studio/augmented-alzheimer-mri-dataset \\\n",
    "    --dataset alzheimers \\\n",
    "    --model_type EfficientNet \\\n",
    "    --train_batch_size 32 \\\n",
    "    --val_split 0.1 \\\n",
    "    --dataset_type Augmented \\\n",
    "    --output_dir ./efficientnet_weights"
   ]
  },
  {
   "cell_type": "code",
   "execution_count": null,
   "metadata": {},
   "outputs": [],
   "source": [
    "!python Hybrid-ViTs/train.py \\\n",
    "    --name MobileNetV2_Run \\\n",
    "    --data_dir /teamspace/studios/this_studio/augmented-alzheimer-mri-dataset \\\n",
    "    --dataset alzheimers \\\n",
    "    --model_type MobileNetV2 \\\n",
    "    --train_batch_size 32 \\\n",
    "    --val_split 0.1 \\\n",
    "    --dataset_type Augmented \\\n",
    "    --output_dir ./mobilenetv2_weights"
   ]
  }
 ],
 "metadata": {
  "language_info": {
   "name": "python"
  }
 },
 "nbformat": 4,
 "nbformat_minor": 2
}
